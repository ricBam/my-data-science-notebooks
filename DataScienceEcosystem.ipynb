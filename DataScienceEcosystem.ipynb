{
 "cells": [
  {
   "cell_type": "markdown",
   "id": "0a93626b-ba64-400b-9de6-9d4e7714f956",
   "metadata": {},
   "source": [
    "# Data Science Tools and Ecosystem"
   ]
  },
  {
   "cell_type": "markdown",
   "id": "65117fa0-92db-4064-a08a-53b146505c7e",
   "metadata": {},
   "source": [
    "## Author: Ricardo Borges "
   ]
  },
  {
   "cell_type": "markdown",
   "id": "e5ceb305-4811-48b7-a53b-1e3d9e5b1b04",
   "metadata": {},
   "source": [
    "##### In this notebook, Data Science Tools and Ecosystem are summarized."
   ]
  },
  {
   "cell_type": "markdown",
   "id": "91b8bc98-2603-4aea-97dd-0db62c3904ed",
   "metadata": {},
   "source": [
    "**Objectives**\n",
    "* List of popular languages for Data Science\n",
    "* List of popular libraries for Data Science\n",
    "* Data Science Tools"
   ]
  },
  {
   "cell_type": "markdown",
   "id": "16819434-f12c-4fe6-9e38-c5ed6ddea900",
   "metadata": {},
   "source": [
    "Some of the popular languages that Data Scientists use are:\n",
    "1. Python\n",
    "2. R\n",
    "3. SQL\n",
    "4. Java\n",
    "5. Julia\n",
    "6. Scala"
   ]
  },
  {
   "cell_type": "markdown",
   "id": "7250cdc5-d4d1-46cb-b2fc-ec9b85744423",
   "metadata": {},
   "source": [
    "Some of the commonly used libraries used by Data Scientists include:\n",
    "1. Pandas\n",
    "2. Numpy\n",
    "3. Matplotlib"
   ]
  },
  {
   "cell_type": "markdown",
   "id": "59244e04-a162-421a-83a5-e985db53f6ef",
   "metadata": {},
   "source": [
    "|Data Science Tool|\n",
    "|-----------------|\n",
    "|Jupyter Notebook|\n",
    "|RStudio|\n",
    "|Visual Studio Code (VS Code)|"
   ]
  },
  {
   "cell_type": "markdown",
   "id": "7ea1e21e-ec05-46d7-bb15-b72196217156",
   "metadata": {},
   "source": [
    "### Below are a few examples of evaluating arithmetic expressions in Python."
   ]
  },
  {
   "cell_type": "code",
   "execution_count": 1,
   "id": "8acc3fb4-4b78-4b85-a896-13109ef06b11",
   "metadata": {},
   "outputs": [
    {
     "data": {
      "text/plain": [
       "17"
      ]
     },
     "execution_count": 1,
     "metadata": {},
     "output_type": "execute_result"
    }
   ],
   "source": [
    "(3*4)+5"
   ]
  },
  {
   "cell_type": "code",
   "execution_count": 12,
   "id": "a33db1f5-3304-498f-9c76-1463853336b5",
   "metadata": {},
   "outputs": [
    {
     "name": "stdout",
     "output_type": "stream",
     "text": [
      "3.3333333333333335 hrs\n"
     ]
    }
   ],
   "source": [
    "# Convert min into Hrs\n",
    "Min = 200  # min\n",
    "hr = 60    # min in an hour\n",
    "cnvt = Min / hr\n",
    "print(str(cnvt) + \" hrs\")"
   ]
  }
 ],
 "metadata": {
  "kernelspec": {
   "display_name": "Python 3 (ipykernel)",
   "language": "python",
   "name": "python3"
  },
  "language_info": {
   "codemirror_mode": {
    "name": "ipython",
    "version": 3
   },
   "file_extension": ".py",
   "mimetype": "text/x-python",
   "name": "python",
   "nbconvert_exporter": "python",
   "pygments_lexer": "ipython3",
   "version": "3.13.5"
  }
 },
 "nbformat": 4,
 "nbformat_minor": 5
}
